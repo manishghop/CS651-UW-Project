{
  "nbformat": 4,
  "nbformat_minor": 0,
  "metadata": {
    "colab": {
      "name": "Untitled19.ipynb",
      "provenance": [],
      "collapsed_sections": []
    },
    "kernelspec": {
      "name": "python3",
      "display_name": "Python 3"
    }
  },
  "cells": [
    {
      "cell_type": "code",
      "metadata": {
        "id": "zZmRknLoqIrx"
      },
      "source": [
        "import pandas as pd\r\n",
        "import numpy as np\r\n",
        "import matplotlib.pyplot as plt\r\n",
        "from sklearn.metrics import accuracy_score, f1_score, precision_score, recall_score, classification_report, confusion_matrix\r\n",
        "from sklearn.metrics import mean_squared_error"
      ],
      "execution_count": 112,
      "outputs": []
    },
    {
      "cell_type": "code",
      "metadata": {
        "id": "hlnyLtU4RSV1"
      },
      "source": [
        "#state,positive,negative,neutral,total_tweets\r\n",
        "results={'Alabama':[48.93617021276596, 8.51063829787234, 42.5531914893617, 47],\r\n",
        "'Alaska':[38.552540013917884, 16.075156576200417, 45.372303409881695, 1437],\r\n",
        "'Arizona':[30.627306273062732, 14.391143911439114, 54.981549815498155, 271],\r\n",
        "'Arkansas':[33.16195372750643, 20.95115681233933, 45.88688946015424, 778],\r\n",
        "'California':[38.427947598253276, 21.397379912663755, 40.174672489082965, 229],\r\n",
        "'Colorado':[39.75240715268226, 18.982118294360383, 41.26547455295736, 727],\r\n",
        "'Connecticut':[37.41721854304636, 10.927152317880795, 51.65562913907284, 302],\r\n",
        "'Delaware':[26.27450980392157, 10.84967320261438, 62.87581699346405, 765],\r\n",
        "'Florida':[36.38814016172507, 15.902964959568733, 47.7088948787062, 371],\r\n",
        "'Georgia':[21.723896285914506, 12.543798177995797, 65.7323055360897, 1427],\r\n",
        "'Hawaii':[26.02131438721137, 13.0550621669627, 60.92362344582594, 1126],\r\n",
        "'Idaho':[41.15942028985507, 20.579710144927535, 38.26086956521739, 345],\r\n",
        "'Illinois':[26.89210950080515, 11.352657004830919, 61.75523349436393, 1242],\r\n",
        "'Indiana':[19.74405850091408, 12.614259597806216, 67.64168190127971, 547],\r\n",
        "'Iowa':[29.03225806451613, 14.746543778801843, 56.22119815668203, 434],\r\n",
        "'Kansas':[21.024049650892167, 12.878200155159039, 66.0977501939488, 1289],\r\n",
        "'Kentucky':[34.96503496503497, 24.895104895104893, 40.13986013986014, 715],\r\n",
        "'Louisiana':[42.25941422594142, 16.736401673640167, 41.00418410041841, 239],\r\n",
        "'Maine':[45.867768595041326, 18.87052341597796, 35.26170798898072, 726],\r\n",
        "'Maryland':[41.24809741248097, 14.916286149162861, 43.83561643835616, 657],\r\n",
        "'Massachusetts':[44.6875, 19.0625, 36.25, 320],\r\n",
        "'Michigan':[37.38656987295826, 23.049001814882033, 39.56442831215971, 551],\r\n",
        "'Minnesota':[25.43352601156069, 10.404624277456648, 64.16184971098265, 346],\r\n",
        "'Mississippi':[42.3469387755102, 19.387755102040817, 38.265306122448976, 196],\r\n",
        "'Missouri':[26.89295039164491, 13.838120104438643, 59.268929503916446, 383],\r\n",
        "'Montana':[44.3609022556391, 14.285714285714285, 41.35338345864661, 266],\r\n",
        "'Nebraska':[21.70731707317073, 14.146341463414632, 64.14634146341463, 410],\r\n",
        "'Nevada':[20.965058236272878, 11.896838602329451, 67.13810316139767, 1202],\r\n",
        "'New Hampshire':[33.33333333333333, 19.806763285024154, 46.85990338164252, 207],\r\n",
        "'New Jersey':[37.423312883435585, 11.65644171779141, 50.920245398773, 163],\r\n",
        "'New Mexico':[39.83739837398374, 14.227642276422763, 45.9349593495935, 246],\r\n",
        "'New York':[33.98533007334964, 19.315403422982886, 46.69926650366748, 409],\r\n",
        "'North Carolina':[39.30555555555556, 13.472222222222221, 47.22222222222222, 720],\r\n",
        "'North Dakota':[21.458254627880617, 12.69361541367586, 65.84812995844352, 2647],\r\n",
        "'Ohio':[38.31460674157303, 24.269662921348313, 37.41573033707865, 890],\r\n",
        "'Oklahoma':[21.42126789366053, 12.678936605316974, 65.8997955010225, 1956],\r\n",
        "'Oregon':[23.614274867122248, 14.123006833712983, 62.26271829916477, 1317],\r\n",
        "'Pennsylvania':[33.33333333333333, 12.878787878787879, 53.78787878787878, 132],\r\n",
        "'Rhode Island':[29.714285714285715, 18.285714285714285, 52.0, 350],\r\n",
        "'South Carolina':[24.702380952380953, 15.327380952380953, 59.970238095238095, 672],\r\n",
        "'South Dakota':[24.701195219123505, 17.928286852589643, 57.37051792828686, 251],\r\n",
        "'Tennessee':[36.7816091954023, 13.136288998357964, 50.08210180623974, 1218],\r\n",
        "'Texas':[22.031473533619454, 12.732474964234623, 65.23605150214593, 699],\r\n",
        "'Utah':[35.294117647058826, 28.15126050420168, 36.554621848739494, 238],\r\n",
        "'Vermont':[22.0, 14.727272727272728, 63.272727272727266, 550],\r\n",
        "'Virginia':[39.23076923076923, 16.73076923076923, 44.03846153846154, 1040],\r\n",
        "'Washington':[36.57142857142857, 22.285714285714285, 41.14285714285714, 175],\r\n",
        "'West Virginia':[34.563520227111425, 21.00780695528744, 44.42867281760113, 1409],\r\n",
        "'Wisconsin':[20.770519262981573, 13.400335008375208, 65.82914572864321, 597],\r\n",
        "'Wyoming':[34.033149171270715, 21.215469613259668, 44.751381215469614, 905]}\r\n"
      ],
      "execution_count": 113,
      "outputs": []
    },
    {
      "cell_type": "code",
      "metadata": {
        "id": "fQqXBbPxUkLO"
      },
      "source": [
        "real_results={'Alabama':[61, 37],\r\n",
        "'Alaska':[53, 43],\r\n",
        "'Arizona':[49,49],\r\n",
        "'Arkansas':[62,35],\r\n",
        "'California':[34,64],\r\n",
        "'Colorado':[42,55],\r\n",
        "'Connecticut':[39,59],\r\n",
        "'Delaware':[40,59],\r\n",
        "'Florida':[51.2,47.9],\r\n",
        "'Georgia':[49.3,49.5],\r\n",
        "'Hawaii':[34,64],\r\n",
        "'Idaho':[64,33],\r\n",
        "'Illinois':[41,57],\r\n",
        "'Indiana':[57,41],\r\n",
        "'Iowa':[53,45],\r\n",
        "'Kansas':[56,41],\r\n",
        "'Kentucky':[62,36],\r\n",
        "'Louisiana':[58.46,39.85],\r\n",
        "'Maine':[44,53],\r\n",
        "'Maryland':[32.4,65.8],\r\n",
        "'Massachusetts':[32,66],\r\n",
        "'Michigan':[48,51],\r\n",
        "'Minnesota':[45,52],\r\n",
        "'Mississippi':[57,41],\r\n",
        "'Missouri':[56.8,41.4],\r\n",
        "'Montana':[57,40],\r\n",
        "'Nebraska':[59,39],\r\n",
        "'Nevada':[50.01,47.7],\r\n",
        "'New Hampshire':[52.9,45.5],\r\n",
        "'New Jersey':[41,57],\r\n",
        "'New Mexico':[44,54],\r\n",
        "'New York':[42,57],\r\n",
        "'North Carolina':[50,49],\r\n",
        "'North Dakota':[65,32],\r\n",
        "'Ohio':[53,45],\r\n",
        "'Oklahoma':[65,32],\r\n",
        "'Oregon':[40,56],\r\n",
        "'Pennsylvania':[48.8,50],\r\n",
        "'Rhode Island':[39,59],\r\n",
        "'South Carolina':[55,43],\r\n",
        "'South Dakota':[62,36],\r\n",
        "'Tennessee':[61,37],\r\n",
        "'Texas':[52,47],\r\n",
        "'Utah':[58,38],\r\n",
        "'Vermont':[30.8,66.4],\r\n",
        "'Virginia':[44.2,54.4],\r\n",
        "'Washington':[39,58],\r\n",
        "'West Virginia':[68.6,29.7],\r\n",
        "'Wisconsin':[48.9,49.6],\r\n",
        "'Wyoming':[70,27]}\r\n"
      ],
      "execution_count": 114,
      "outputs": []
    },
    {
      "cell_type": "code",
      "metadata": {
        "colab": {
          "base_uri": "https://localhost:8080/"
        },
        "id": "TKCLifhtw0qd",
        "outputId": "d13da40c-04a7-495f-be2a-0496ad7293f9"
      },
      "source": [
        "len(results)"
      ],
      "execution_count": 115,
      "outputs": [
        {
          "output_type": "execute_result",
          "data": {
            "text/plain": [
              "50"
            ]
          },
          "metadata": {
            "tags": []
          },
          "execution_count": 115
        }
      ]
    },
    {
      "cell_type": "code",
      "metadata": {
        "colab": {
          "base_uri": "https://localhost:8080/",
          "height": 282
        },
        "id": "GJeaVInVb9TI",
        "outputId": "6034f1e3-5e31-4c4c-cdf6-555dd9c51077"
      },
      "source": [
        "a=results['Alabama'][:2]\r\n",
        "real_results['Alabama']\r\n",
        "#plt.bar(a,height=10)\r\n",
        "ax = plt.subplot(111)\r\n",
        "w = 0.3\r\n",
        "ax.bar(a[0], a[1], width=w, color='b', align='center')\r\n",
        "ax.bar(real_results['Alabama'][0], real_results['Alabama'][1], width=w, color='g', align='center')"
      ],
      "execution_count": 116,
      "outputs": [
        {
          "output_type": "execute_result",
          "data": {
            "text/plain": [
              "<BarContainer object of 1 artists>"
            ]
          },
          "metadata": {
            "tags": []
          },
          "execution_count": 116
        },
        {
          "output_type": "display_data",
          "data": {
            "image/png": "[encoded data removed]",
            "text/plain": [
              "<Figure size 432x288 with 1 Axes>"
            ]
          },
          "metadata": {
            "tags": [],
            "needs_background": "light"
          }
        }
      ]
    },
    {
      "cell_type": "code",
      "metadata": {
        "colab": {
          "base_uri": "https://localhost:8080/"
        },
        "id": "_R-JGbuhcInm",
        "outputId": "bab9ba79-860a-480a-bdc7-d3f68c0f1846"
      },
      "source": [
        "results['Alabama'][:2]"
      ],
      "execution_count": 117,
      "outputs": [
        {
          "output_type": "execute_result",
          "data": {
            "text/plain": [
              "[48.93617021276596, 8.51063829787234]"
            ]
          },
          "metadata": {
            "tags": []
          },
          "execution_count": 117
        }
      ]
    },
    {
      "cell_type": "code",
      "metadata": {
        "colab": {
          "base_uri": "https://localhost:8080/"
        },
        "id": "0GKx3UwHdGN_",
        "outputId": "578ccc12-3c22-4644-c16a-085b34f8b515"
      },
      "source": [
        "real_results['Alabama']"
      ],
      "execution_count": 118,
      "outputs": [
        {
          "output_type": "execute_result",
          "data": {
            "text/plain": [
              "[61, 37]"
            ]
          },
          "metadata": {
            "tags": []
          },
          "execution_count": 118
        }
      ]
    },
    {
      "cell_type": "markdown",
      "metadata": {
        "id": "YfQABrM1pmH-"
      },
      "source": [
        "# we can calculate RMSE of the accuracies"
      ]
    },
    {
      "cell_type": "code",
      "metadata": {
        "colab": {
          "base_uri": "https://localhost:8080/"
        },
        "id": "1WyWc3UBgGWn",
        "outputId": "7cea787a-3cb6-45d4-c3bb-06a3089846ad"
      },
      "source": [
        "predicted={}\r\n",
        "for i in results:\r\n",
        "  predicted[i]=results[i][:2]\r\n",
        "predicted"
      ],
      "execution_count": 119,
      "outputs": [
        {
          "output_type": "execute_result",
          "data": {
            "text/plain": [
              "{'Alabama': [48.93617021276596, 8.51063829787234],\n",
              " 'Alaska': [38.552540013917884, 16.075156576200417],\n",
              " 'Arizona': [30.627306273062732, 14.391143911439114],\n",
              " 'Arkansas': [33.16195372750643, 20.95115681233933],\n",
              " 'California': [38.427947598253276, 21.397379912663755],\n",
              " 'Colorado': [39.75240715268226, 18.982118294360383],\n",
              " 'Connecticut': [37.41721854304636, 10.927152317880795],\n",
              " 'Delaware': [26.27450980392157, 10.84967320261438],\n",
              " 'Florida': [36.38814016172507, 15.902964959568733],\n",
              " 'Georgia': [21.723896285914506, 12.543798177995797],\n",
              " 'Hawaii': [26.02131438721137, 13.0550621669627],\n",
              " 'Idaho': [41.15942028985507, 20.579710144927535],\n",
              " 'Illinois': [26.89210950080515, 11.352657004830919],\n",
              " 'Indiana': [19.74405850091408, 12.614259597806216],\n",
              " 'Iowa': [29.03225806451613, 14.746543778801843],\n",
              " 'Kansas': [21.024049650892167, 12.878200155159039],\n",
              " 'Kentucky': [34.96503496503497, 24.895104895104893],\n",
              " 'Louisiana': [42.25941422594142, 16.736401673640167],\n",
              " 'Maine': [45.867768595041326, 18.87052341597796],\n",
              " 'Maryland': [41.24809741248097, 14.916286149162861],\n",
              " 'Massachusetts': [44.6875, 19.0625],\n",
              " 'Michigan': [37.38656987295826, 23.049001814882033],\n",
              " 'Minnesota': [25.43352601156069, 10.404624277456648],\n",
              " 'Mississippi': [42.3469387755102, 19.387755102040817],\n",
              " 'Missouri': [26.89295039164491, 13.838120104438643],\n",
              " 'Montana': [44.3609022556391, 14.285714285714285],\n",
              " 'Nebraska': [21.70731707317073, 14.146341463414632],\n",
              " 'Nevada': [20.965058236272878, 11.896838602329451],\n",
              " 'New Hampshire': [33.33333333333333, 19.806763285024154],\n",
              " 'New Jersey': [37.423312883435585, 11.65644171779141],\n",
              " 'New Mexico': [39.83739837398374, 14.227642276422763],\n",
              " 'New York': [33.98533007334964, 19.315403422982886],\n",
              " 'North Carolina': [39.30555555555556, 13.472222222222221],\n",
              " 'North Dakota': [21.458254627880617, 12.69361541367586],\n",
              " 'Ohio': [38.31460674157303, 24.269662921348313],\n",
              " 'Oklahoma': [21.42126789366053, 12.678936605316974],\n",
              " 'Oregon': [23.614274867122248, 14.123006833712983],\n",
              " 'Pennsylvania': [33.33333333333333, 12.878787878787879],\n",
              " 'Rhode Island': [29.714285714285715, 18.285714285714285],\n",
              " 'South Carolina': [24.702380952380953, 15.327380952380953],\n",
              " 'South Dakota': [24.701195219123505, 17.928286852589643],\n",
              " 'Tennessee': [36.7816091954023, 13.136288998357964],\n",
              " 'Texas': [22.031473533619454, 12.732474964234623],\n",
              " 'Utah': [35.294117647058826, 28.15126050420168],\n",
              " 'Vermont': [22.0, 14.727272727272728],\n",
              " 'Virginia': [39.23076923076923, 16.73076923076923],\n",
              " 'Washington': [36.57142857142857, 22.285714285714285],\n",
              " 'West Virginia': [34.563520227111425, 21.00780695528744],\n",
              " 'Wisconsin': [20.770519262981573, 13.400335008375208],\n",
              " 'Wyoming': [34.033149171270715, 21.215469613259668]}"
            ]
          },
          "metadata": {
            "tags": []
          },
          "execution_count": 119
        }
      ]
    },
    {
      "cell_type": "code",
      "metadata": {
        "colab": {
          "base_uri": "https://localhost:8080/"
        },
        "id": "KEtf1RSFw8lX",
        "outputId": "57cc942a-0152-4d1e-fc37-4933b34a7fa3"
      },
      "source": [
        "len(predicted)"
      ],
      "execution_count": 120,
      "outputs": [
        {
          "output_type": "execute_result",
          "data": {
            "text/plain": [
              "50"
            ]
          },
          "metadata": {
            "tags": []
          },
          "execution_count": 120
        }
      ]
    },
    {
      "cell_type": "code",
      "metadata": {
        "id": "LyOvwEkNqPHd"
      },
      "source": [
        "val2=np.array(list(real_results.values()))"
      ],
      "execution_count": 121,
      "outputs": []
    },
    {
      "cell_type": "code",
      "metadata": {
        "colab": {
          "base_uri": "https://localhost:8080/"
        },
        "id": "_2MoO0bOp_Yx",
        "outputId": "3bc693fe-f0ba-4d64-987f-361ce3aaa761"
      },
      "source": [
        "val1=np.array(list(predicted.values()))\r\n",
        "val1"
      ],
      "execution_count": 122,
      "outputs": [
        {
          "output_type": "execute_result",
          "data": {
            "text/plain": [
              "array([[48.93617021,  8.5106383 ],\n",
              "       [38.55254001, 16.07515658],\n",
              "       [30.62730627, 14.39114391],\n",
              "       [33.16195373, 20.95115681],\n",
              "       [38.4279476 , 21.39737991],\n",
              "       [39.75240715, 18.98211829],\n",
              "       [37.41721854, 10.92715232],\n",
              "       [26.2745098 , 10.8496732 ],\n",
              "       [36.38814016, 15.90296496],\n",
              "       [21.72389629, 12.54379818],\n",
              "       [26.02131439, 13.05506217],\n",
              "       [41.15942029, 20.57971014],\n",
              "       [26.8921095 , 11.352657  ],\n",
              "       [19.7440585 , 12.6142596 ],\n",
              "       [29.03225806, 14.74654378],\n",
              "       [21.02404965, 12.87820016],\n",
              "       [34.96503497, 24.8951049 ],\n",
              "       [42.25941423, 16.73640167],\n",
              "       [45.8677686 , 18.87052342],\n",
              "       [41.24809741, 14.91628615],\n",
              "       [44.6875    , 19.0625    ],\n",
              "       [37.38656987, 23.04900181],\n",
              "       [25.43352601, 10.40462428],\n",
              "       [42.34693878, 19.3877551 ],\n",
              "       [26.89295039, 13.8381201 ],\n",
              "       [44.36090226, 14.28571429],\n",
              "       [21.70731707, 14.14634146],\n",
              "       [20.96505824, 11.8968386 ],\n",
              "       [33.33333333, 19.80676329],\n",
              "       [37.42331288, 11.65644172],\n",
              "       [39.83739837, 14.22764228],\n",
              "       [33.98533007, 19.31540342],\n",
              "       [39.30555556, 13.47222222],\n",
              "       [21.45825463, 12.69361541],\n",
              "       [38.31460674, 24.26966292],\n",
              "       [21.42126789, 12.67893661],\n",
              "       [23.61427487, 14.12300683],\n",
              "       [33.33333333, 12.87878788],\n",
              "       [29.71428571, 18.28571429],\n",
              "       [24.70238095, 15.32738095],\n",
              "       [24.70119522, 17.92828685],\n",
              "       [36.7816092 , 13.136289  ],\n",
              "       [22.03147353, 12.73247496],\n",
              "       [35.29411765, 28.1512605 ],\n",
              "       [22.        , 14.72727273],\n",
              "       [39.23076923, 16.73076923],\n",
              "       [36.57142857, 22.28571429],\n",
              "       [34.56352023, 21.00780696],\n",
              "       [20.77051926, 13.40033501],\n",
              "       [34.03314917, 21.21546961]])"
            ]
          },
          "metadata": {
            "tags": []
          },
          "execution_count": 122
        }
      ]
    },
    {
      "cell_type": "code",
      "metadata": {
        "id": "0EQ4Ftzps2Mp"
      },
      "source": [
        "# A Simple Confusion Matrix Implementation\r\n",
        "def confusionmatrix(actual, predicted, normalize = False):\r\n",
        "    \"\"\"\r\n",
        "    Generate a confusion matrix for multiple classification\r\n",
        "    @params:\r\n",
        "        actual      - a list of integers or strings for known classes\r\n",
        "        predicted   - a list of integers or strings for predicted classes\r\n",
        "        normalize   - optional boolean for matrix normalization\r\n",
        "    @return:\r\n",
        "        matrix      - a 2-dimensional list of pairwise counts\r\n",
        "    \"\"\"\r\n",
        "    unique = sorted(set(actual))\r\n",
        "    matrix = [[0 for _ in unique] for _ in unique]\r\n",
        "    imap   = {key: i for i, key in enumerate(unique)}\r\n",
        "    # Generate Confusion Matrix\r\n",
        "    for p, a in zip(predicted, actual):\r\n",
        "        matrix[imap[p]][imap[a]] += 1\r\n",
        "    # Matrix Normalization\r\n",
        "    if normalize:\r\n",
        "        sigma = sum([sum(matrix[imap[i]]) for i in unique])\r\n",
        "        matrix = [row for row in map(lambda i: list(map(lambda j: j / sigma, i)), matrix)]\r\n",
        "    return matrix"
      ],
      "execution_count": 123,
      "outputs": []
    },
    {
      "cell_type": "code",
      "metadata": {
        "colab": {
          "base_uri": "https://localhost:8080/"
        },
        "id": "-wI86NVwt3wx",
        "outputId": "63988768-c2fb-47a7-c22d-1600590fc26d"
      },
      "source": [
        "val2-val1.sum()"
      ],
      "execution_count": 124,
      "outputs": [
        {
          "output_type": "execute_result",
          "data": {
            "text/plain": [
              "array([[-2371.97557844, -2395.97557844],\n",
              "       [-2379.97557844, -2389.97557844],\n",
              "       [-2383.97557844, -2383.97557844],\n",
              "       [-2370.97557844, -2397.97557844],\n",
              "       [-2398.97557844, -2368.97557844],\n",
              "       [-2390.97557844, -2377.97557844],\n",
              "       [-2393.97557844, -2373.97557844],\n",
              "       [-2392.97557844, -2373.97557844],\n",
              "       [-2381.77557844, -2385.07557844],\n",
              "       [-2383.67557844, -2383.47557844],\n",
              "       [-2398.97557844, -2368.97557844],\n",
              "       [-2368.97557844, -2399.97557844],\n",
              "       [-2391.97557844, -2375.97557844],\n",
              "       [-2375.97557844, -2391.97557844],\n",
              "       [-2379.97557844, -2387.97557844],\n",
              "       [-2376.97557844, -2391.97557844],\n",
              "       [-2370.97557844, -2396.97557844],\n",
              "       [-2374.51557844, -2393.12557844],\n",
              "       [-2388.97557844, -2379.97557844],\n",
              "       [-2400.57557844, -2367.17557844],\n",
              "       [-2400.97557844, -2366.97557844],\n",
              "       [-2384.97557844, -2381.97557844],\n",
              "       [-2387.97557844, -2380.97557844],\n",
              "       [-2375.97557844, -2391.97557844],\n",
              "       [-2376.17557844, -2391.57557844],\n",
              "       [-2375.97557844, -2392.97557844],\n",
              "       [-2373.97557844, -2393.97557844],\n",
              "       [-2382.96557844, -2385.27557844],\n",
              "       [-2380.07557844, -2387.47557844],\n",
              "       [-2391.97557844, -2375.97557844],\n",
              "       [-2388.97557844, -2378.97557844],\n",
              "       [-2390.97557844, -2375.97557844],\n",
              "       [-2382.97557844, -2383.97557844],\n",
              "       [-2367.97557844, -2400.97557844],\n",
              "       [-2379.97557844, -2387.97557844],\n",
              "       [-2367.97557844, -2400.97557844],\n",
              "       [-2392.97557844, -2376.97557844],\n",
              "       [-2384.17557844, -2382.97557844],\n",
              "       [-2393.97557844, -2373.97557844],\n",
              "       [-2377.97557844, -2389.97557844],\n",
              "       [-2370.97557844, -2396.97557844],\n",
              "       [-2371.97557844, -2395.97557844],\n",
              "       [-2380.97557844, -2385.97557844],\n",
              "       [-2374.97557844, -2394.97557844],\n",
              "       [-2402.17557844, -2366.57557844],\n",
              "       [-2388.77557844, -2378.57557844],\n",
              "       [-2393.97557844, -2374.97557844],\n",
              "       [-2364.37557844, -2403.27557844],\n",
              "       [-2384.07557844, -2383.37557844],\n",
              "       [-2362.97557844, -2405.97557844]])"
            ]
          },
          "metadata": {
            "tags": []
          },
          "execution_count": 124
        }
      ]
    },
    {
      "cell_type": "code",
      "metadata": {
        "id": "PI7gk6pGt70C"
      },
      "source": [
        "# labels 0 1\r\n",
        "#        (T,B)  if T>B --0"
      ],
      "execution_count": 125,
      "outputs": []
    },
    {
      "cell_type": "code",
      "metadata": {
        "colab": {
          "base_uri": "https://localhost:8080/"
        },
        "id": "4s6Kaw4Hv96w",
        "outputId": "6ea9cd20-fa42-458b-ff27-50d2ccb97fa4"
      },
      "source": [
        "list(real_results.values())"
      ],
      "execution_count": 126,
      "outputs": [
        {
          "output_type": "execute_result",
          "data": {
            "text/plain": [
              "[[61, 37],\n",
              " [53, 43],\n",
              " [49, 49],\n",
              " [62, 35],\n",
              " [34, 64],\n",
              " [42, 55],\n",
              " [39, 59],\n",
              " [40, 59],\n",
              " [51.2, 47.9],\n",
              " [49.3, 49.5],\n",
              " [34, 64],\n",
              " [64, 33],\n",
              " [41, 57],\n",
              " [57, 41],\n",
              " [53, 45],\n",
              " [56, 41],\n",
              " [62, 36],\n",
              " [58.46, 39.85],\n",
              " [44, 53],\n",
              " [32.4, 65.8],\n",
              " [32, 66],\n",
              " [48, 51],\n",
              " [45, 52],\n",
              " [57, 41],\n",
              " [56.8, 41.4],\n",
              " [57, 40],\n",
              " [59, 39],\n",
              " [50.01, 47.7],\n",
              " [52.9, 45.5],\n",
              " [41, 57],\n",
              " [44, 54],\n",
              " [42, 57],\n",
              " [50, 49],\n",
              " [65, 32],\n",
              " [53, 45],\n",
              " [65, 32],\n",
              " [40, 56],\n",
              " [48.8, 50],\n",
              " [39, 59],\n",
              " [55, 43],\n",
              " [62, 36],\n",
              " [61, 37],\n",
              " [52, 47],\n",
              " [58, 38],\n",
              " [30.8, 66.4],\n",
              " [44.2, 54.4],\n",
              " [39, 58],\n",
              " [68.6, 29.7],\n",
              " [48.9, 49.6],\n",
              " [70, 27]]"
            ]
          },
          "metadata": {
            "tags": []
          },
          "execution_count": 126
        }
      ]
    },
    {
      "cell_type": "code",
      "metadata": {
        "id": "bo-ouaO_u9o7"
      },
      "source": [
        "labels=[]\r\n",
        "for i in list(real_results.values()):\r\n",
        "  if i[0]>i[1]: # trump wins\r\n",
        "    labels.append(0)\r\n",
        "  elif i[1]>=i[0]:\r\n",
        "    labels.append(1)"
      ],
      "execution_count": 127,
      "outputs": []
    },
    {
      "cell_type": "code",
      "metadata": {
        "colab": {
          "base_uri": "https://localhost:8080/"
        },
        "id": "MWFAjPO-vX9L",
        "outputId": "169b9911-e30d-4106-e4a2-bcf53984fe17"
      },
      "source": [
        "np.array(labels)"
      ],
      "execution_count": 128,
      "outputs": [
        {
          "output_type": "execute_result",
          "data": {
            "text/plain": [
              "array([0, 0, 1, 0, 1, 1, 1, 1, 0, 1, 1, 0, 1, 0, 0, 0, 0, 0, 1, 1, 1, 1,\n",
              "       1, 0, 0, 0, 0, 0, 0, 1, 1, 1, 0, 0, 0, 0, 1, 1, 1, 0, 0, 0, 0, 0,\n",
              "       1, 1, 1, 0, 1, 0])"
            ]
          },
          "metadata": {
            "tags": []
          },
          "execution_count": 128
        }
      ]
    },
    {
      "cell_type": "code",
      "metadata": {
        "colab": {
          "base_uri": "https://localhost:8080/"
        },
        "id": "arvmyhW6vwRA",
        "outputId": "d9a6147b-1174-47c4-9a93-2c7b694ebdff"
      },
      "source": [
        "list(predicted.values())"
      ],
      "execution_count": 129,
      "outputs": [
        {
          "output_type": "execute_result",
          "data": {
            "text/plain": [
              "[[48.93617021276596, 8.51063829787234],\n",
              " [38.552540013917884, 16.075156576200417],\n",
              " [30.627306273062732, 14.391143911439114],\n",
              " [33.16195372750643, 20.95115681233933],\n",
              " [38.427947598253276, 21.397379912663755],\n",
              " [39.75240715268226, 18.982118294360383],\n",
              " [37.41721854304636, 10.927152317880795],\n",
              " [26.27450980392157, 10.84967320261438],\n",
              " [36.38814016172507, 15.902964959568733],\n",
              " [21.723896285914506, 12.543798177995797],\n",
              " [26.02131438721137, 13.0550621669627],\n",
              " [41.15942028985507, 20.579710144927535],\n",
              " [26.89210950080515, 11.352657004830919],\n",
              " [19.74405850091408, 12.614259597806216],\n",
              " [29.03225806451613, 14.746543778801843],\n",
              " [21.024049650892167, 12.878200155159039],\n",
              " [34.96503496503497, 24.895104895104893],\n",
              " [42.25941422594142, 16.736401673640167],\n",
              " [45.867768595041326, 18.87052341597796],\n",
              " [41.24809741248097, 14.916286149162861],\n",
              " [44.6875, 19.0625],\n",
              " [37.38656987295826, 23.049001814882033],\n",
              " [25.43352601156069, 10.404624277456648],\n",
              " [42.3469387755102, 19.387755102040817],\n",
              " [26.89295039164491, 13.838120104438643],\n",
              " [44.3609022556391, 14.285714285714285],\n",
              " [21.70731707317073, 14.146341463414632],\n",
              " [20.965058236272878, 11.896838602329451],\n",
              " [33.33333333333333, 19.806763285024154],\n",
              " [37.423312883435585, 11.65644171779141],\n",
              " [39.83739837398374, 14.227642276422763],\n",
              " [33.98533007334964, 19.315403422982886],\n",
              " [39.30555555555556, 13.472222222222221],\n",
              " [21.458254627880617, 12.69361541367586],\n",
              " [38.31460674157303, 24.269662921348313],\n",
              " [21.42126789366053, 12.678936605316974],\n",
              " [23.614274867122248, 14.123006833712983],\n",
              " [33.33333333333333, 12.878787878787879],\n",
              " [29.714285714285715, 18.285714285714285],\n",
              " [24.702380952380953, 15.327380952380953],\n",
              " [24.701195219123505, 17.928286852589643],\n",
              " [36.7816091954023, 13.136288998357964],\n",
              " [22.031473533619454, 12.732474964234623],\n",
              " [35.294117647058826, 28.15126050420168],\n",
              " [22.0, 14.727272727272728],\n",
              " [39.23076923076923, 16.73076923076923],\n",
              " [36.57142857142857, 22.285714285714285],\n",
              " [34.563520227111425, 21.00780695528744],\n",
              " [20.770519262981573, 13.400335008375208],\n",
              " [34.033149171270715, 21.215469613259668]]"
            ]
          },
          "metadata": {
            "tags": []
          },
          "execution_count": 129
        }
      ]
    },
    {
      "cell_type": "code",
      "metadata": {
        "id": "5wAv4kcgvYu7"
      },
      "source": [
        "labels1=[]\r\n",
        "for i in list(predicted.values()):\r\n",
        "  if i[0]>i[1]: # trump wins\r\n",
        "    labels1.append(0)\r\n",
        "  elif i[1]>=i[0]:\r\n",
        "    labels1.append(1)"
      ],
      "execution_count": 130,
      "outputs": []
    },
    {
      "cell_type": "code",
      "metadata": {
        "colab": {
          "base_uri": "https://localhost:8080/"
        },
        "id": "1Ys8DyLnwrif",
        "outputId": "aa8e958d-a01a-449b-9b3d-0c44e097fb97"
      },
      "source": [
        "len(labels)"
      ],
      "execution_count": 131,
      "outputs": [
        {
          "output_type": "execute_result",
          "data": {
            "text/plain": [
              "50"
            ]
          },
          "metadata": {
            "tags": []
          },
          "execution_count": 131
        }
      ]
    },
    {
      "cell_type": "code",
      "metadata": {
        "colab": {
          "base_uri": "https://localhost:8080/"
        },
        "id": "8Y_Oi0Y4vkOR",
        "outputId": "be125d9e-321b-4167-aa55-c32f4ea8041b"
      },
      "source": [
        "np.array(labels1)"
      ],
      "execution_count": 132,
      "outputs": [
        {
          "output_type": "execute_result",
          "data": {
            "text/plain": [
              "array([0, 0, 0, 0, 0, 0, 0, 0, 0, 0, 0, 0, 0, 0, 0, 0, 0, 0, 0, 0, 0, 0,\n",
              "       0, 0, 0, 0, 0, 0, 0, 0, 0, 0, 0, 0, 0, 0, 0, 0, 0, 0, 0, 0, 0, 0,\n",
              "       0, 0, 0, 0, 0, 0])"
            ]
          },
          "metadata": {
            "tags": []
          },
          "execution_count": 132
        }
      ]
    },
    {
      "cell_type": "code",
      "metadata": {
        "colab": {
          "base_uri": "https://localhost:8080/"
        },
        "id": "RY4vw4ZxvmFJ",
        "outputId": "771870d0-9e84-4c75-fce4-d69a9fe97d75"
      },
      "source": [
        "cm=confusion_matrix(labels,labels1)\r\n",
        "cm"
      ],
      "execution_count": 133,
      "outputs": [
        {
          "output_type": "execute_result",
          "data": {
            "text/plain": [
              "array([[27,  0],\n",
              "       [23,  0]])"
            ]
          },
          "metadata": {
            "tags": []
          },
          "execution_count": 133
        }
      ]
    },
    {
      "cell_type": "code",
      "metadata": {
        "colab": {
          "base_uri": "https://localhost:8080/"
        },
        "id": "N1Mxw9G32VpI",
        "outputId": "754295e2-6e8a-4801-d8cf-c67b3f6a0d86"
      },
      "source": [
        "recall_score(labels,labels1)"
      ],
      "execution_count": 134,
      "outputs": [
        {
          "output_type": "execute_result",
          "data": {
            "text/plain": [
              "0.0"
            ]
          },
          "metadata": {
            "tags": []
          },
          "execution_count": 134
        }
      ]
    },
    {
      "cell_type": "code",
      "metadata": {
        "colab": {
          "base_uri": "https://localhost:8080/"
        },
        "id": "MSWPWUidwjKT",
        "outputId": "72e9cf92-4884-47bc-983c-509735bf7139"
      },
      "source": [
        "cr=classification_report(labels,labels1,labels=[0,1])\r\n",
        "print(\"Classification report\\n\",cr)"
      ],
      "execution_count": 135,
      "outputs": [
        {
          "output_type": "stream",
          "text": [
            "Classification report\n",
            "               precision    recall  f1-score   support\n",
            "\n",
            "           0       0.54      1.00      0.70        27\n",
            "           1       0.00      0.00      0.00        23\n",
            "\n",
            "    accuracy                           0.54        50\n",
            "   macro avg       0.27      0.50      0.35        50\n",
            "weighted avg       0.29      0.54      0.38        50\n",
            "\n"
          ],
          "name": "stdout"
        },
        {
          "output_type": "stream",
          "text": [
            "/usr/local/lib/python3.6/dist-packages/sklearn/metrics/_classification.py:1272: UndefinedMetricWarning: Precision and F-score are ill-defined and being set to 0.0 in labels with no predicted samples. Use `zero_division` parameter to control this behavior.\n",
            "  _warn_prf(average, modifier, msg_start, len(result))\n"
          ],
          "name": "stderr"
        }
      ]
    },
    {
      "cell_type": "code",
      "metadata": {
        "colab": {
          "base_uri": "https://localhost:8080/",
          "height": 279
        },
        "id": "VWkTqFVWxnI7",
        "outputId": "9192ecb1-0b4e-4821-eace-c5248dba8afc"
      },
      "source": [
        "label = [0,1]\r\n",
        "cm = confusion_matrix(labels, labels1, labels=label)\r\n",
        "#print(cm)\r\n",
        "fig = plt.figure()\r\n",
        "ax = fig.add_subplot(111)\r\n",
        "cax = ax.matshow(cm)\r\n",
        "\r\n",
        "fig.colorbar(cax)\r\n",
        "names=['Trump','Biden']\r\n",
        "ax.set_xticklabels([''] + names)\r\n",
        "ax.set_yticklabels([''] + names)\r\n",
        "plt.xlabel('Actual')\r\n",
        "plt.ylabel('Predicted')\r\n",
        "plt.show()"
      ],
      "execution_count": 136,
      "outputs": [
        {
          "output_type": "display_data",
          "data": {
            "image/png": "[encoded data removed]",
            "text/plain": [
              "<Figure size 432x288 with 2 Axes>"
            ]
          },
          "metadata": {
            "tags": [],
            "needs_background": "light"
          }
        }
      ]
    },
    {
      "cell_type": "code",
      "metadata": {
        "colab": {
          "base_uri": "https://localhost:8080/"
        },
        "id": "e4MVUQIhy-SB",
        "outputId": "035b13b9-41de-45fd-ffba-43f7ce244d6a"
      },
      "source": [
        "import sklearn\r\n",
        "print(sklearn.metrics.roc_auc_score(labels, labels1))"
      ],
      "execution_count": 137,
      "outputs": [
        {
          "output_type": "stream",
          "text": [
            "0.5\n"
          ],
          "name": "stdout"
        }
      ]
    },
    {
      "cell_type": "code",
      "metadata": {
        "colab": {
          "base_uri": "https://localhost:8080/",
          "height": 312
        },
        "id": "4N9pomvw7C32",
        "outputId": "02b57dfe-08a8-48bc-a74a-b9fb3aeff25a"
      },
      "source": [
        "plt.hist(labels1, bins=8)\r\n",
        "\r\n",
        "# x-axis limit from 0 to 1\r\n",
        "plt.xlim(0,1)\r\n",
        "plt.title('Histogram of predicted probabilities')\r\n",
        "plt.xlabel('Predicted probability of Trump as winner')\r\n",
        "plt.ylabel('Frequency')"
      ],
      "execution_count": 138,
      "outputs": [
        {
          "output_type": "execute_result",
          "data": {
            "text/plain": [
              "Text(0, 0.5, 'Frequency')"
            ]
          },
          "metadata": {
            "tags": []
          },
          "execution_count": 138
        },
        {
          "output_type": "display_data",
          "data": {
            "image/png": "[encoded data removed]",
            "text/plain": [
              "<Figure size 432x288 with 1 Axes>"
            ]
          },
          "metadata": {
            "tags": [],
            "needs_background": "light"
          }
        }
      ]
    },
    {
      "cell_type": "code",
      "metadata": {
        "id": "K3bYNtYK7XNj"
      },
      "source": [
        ""
      ],
      "execution_count": 138,
      "outputs": []
    }
  ]
}