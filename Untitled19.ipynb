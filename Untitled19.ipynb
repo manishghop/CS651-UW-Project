{
  "nbformat": 4,
  "nbformat_minor": 0,
  "metadata": {
    "colab": {
      "name": "Untitled19.ipynb",
      "provenance": [],
      "collapsed_sections": []
    },
    "kernelspec": {
      "name": "python3",
      "display_name": "Python 3"
    }
  },
  "cells": [
    {
      "cell_type": "code",
      "metadata": {
        "id": "hlnyLtU4RSV1"
      },
      "source": [
        "state,positive,negative,neutral,total_tweets\r\n",
        "results={'Alabama':[48.93617021276596, 8.51063829787234, 42.5531914893617, 47],\r\n",
        "'Alaska':[38.552540013917884, 16.075156576200417, 45.372303409881695, 1437],\r\n",
        "'Arizona':[30.627306273062732, 14.391143911439114, 54.981549815498155, 271],\r\n",
        "'Arkansas':[33.16195372750643, 20.95115681233933, 45.88688946015424, 778],\r\n",
        "'California':[38.427947598253276, 21.397379912663755, 40.174672489082965, 229],\r\n",
        "'Colorado':[39.75240715268226, 18.982118294360383, 41.26547455295736, 727],\r\n",
        "'Connecticut':[37.41721854304636, 10.927152317880795, 51.65562913907284, 302],\r\n",
        "'Delaware':[26.27450980392157, 10.84967320261438, 62.87581699346405, 765],\r\n",
        "'Florida':[36.38814016172507, 15.902964959568733, 47.7088948787062, 371],\r\n",
        "'Georgia':[21.723896285914506, 12.543798177995797, 65.7323055360897, 1427],\r\n",
        "'Hawaii':[26.02131438721137, 13.0550621669627, 60.92362344582594, 1126],\r\n",
        "'Idaho':[41.15942028985507, 20.579710144927535, 38.26086956521739, 345],\r\n",
        "'Illinois':[26.89210950080515, 11.352657004830919, 61.75523349436393, 1242],\r\n",
        "'Indiana':[19.74405850091408, 12.614259597806216, 67.64168190127971, 547],\r\n",
        "'Iowa':[29.03225806451613, 14.746543778801843, 56.22119815668203, 434],\r\n",
        "'Kansas':[21.024049650892167, 12.878200155159039, 66.0977501939488, 1289],\r\n",
        "'Kentucky':[34.96503496503497, 24.895104895104893, 40.13986013986014, 715],\r\n",
        "'Louisiana':[42.25941422594142, 16.736401673640167, 41.00418410041841, 239],\r\n",
        "'Maine':[45.867768595041326, 18.87052341597796, 35.26170798898072, 726],\r\n",
        "'Maryland':[41.24809741248097, 14.916286149162861, 43.83561643835616, 657],\r\n",
        "'Massachusetts':[44.6875, 19.0625, 36.25, 320],\r\n",
        "'Michigan':[37.38656987295826, 23.049001814882033, 39.56442831215971, 551],\r\n",
        "'Minnesota':[25.43352601156069, 10.404624277456648, 64.16184971098265, 346],\r\n",
        "'Mississippi':[42.3469387755102, 19.387755102040817, 38.265306122448976, 196],\r\n",
        "'Missouri':[26.89295039164491, 13.838120104438643, 59.268929503916446, 383],\r\n",
        "'Montana':[44.3609022556391, 14.285714285714285, 41.35338345864661, 266],\r\n",
        "'Nebraska':[21.70731707317073, 14.146341463414632, 64.14634146341463, 410],\r\n",
        "'Nevada':[20.965058236272878, 11.896838602329451, 67.13810316139767, 1202],\r\n",
        "'New Hampshire':[33.33333333333333, 19.806763285024154, 46.85990338164252, 207],\r\n",
        "'New Jersey':[37.423312883435585, 11.65644171779141, 50.920245398773, 163],\r\n",
        "'New Mexico':[39.83739837398374, 14.227642276422763, 45.9349593495935, 246],\r\n",
        "'New York':[33.98533007334964, 19.315403422982886, 46.69926650366748, 409],\r\n",
        "'North Carolina':[39.30555555555556, 13.472222222222221, 47.22222222222222, 720],\r\n",
        "'North Dakota':[21.458254627880617, 12.69361541367586, 65.84812995844352, 2647],\r\n",
        "'Ohio':[38.31460674157303, 24.269662921348313, 37.41573033707865, 890],\r\n",
        "'Oklahoma':[21.42126789366053, 12.678936605316974, 65.8997955010225, 1956],\r\n",
        "'Oregon':[23.614274867122248, 14.123006833712983, 62.26271829916477, 1317],\r\n",
        "'Pennsylvania':[33.33333333333333, 12.878787878787879, 53.78787878787878, 132],\r\n",
        "'Rhode Island':[29.714285714285715, 18.285714285714285, 52.0, 350],\r\n",
        "'South Carolina':[24.702380952380953, 15.327380952380953, 59.970238095238095, 672],\r\n",
        "'South Dakota':[24.701195219123505, 17.928286852589643, 57.37051792828686, 251],\r\n",
        "'Tennessee':[36.7816091954023, 13.136288998357964, 50.08210180623974, 1218],\r\n",
        "'Texas':[22.031473533619454, 12.732474964234623, 65.23605150214593, 699],\r\n",
        "'Utah':[35.294117647058826, 28.15126050420168, 36.554621848739494, 238],\r\n",
        "'Vermont':[22.0, 14.727272727272728, 63.272727272727266, 550],\r\n",
        "'Virginia':[39.23076923076923, 16.73076923076923, 44.03846153846154, 1040],\r\n",
        "'Washington':[36.57142857142857, 22.285714285714285, 41.14285714285714, 175],\r\n",
        "'West Virginia':[34.563520227111425, 21.00780695528744, 44.42867281760113, 1409],\r\n",
        "'Wisconsin':[20.770519262981573, 13.400335008375208, 65.82914572864321, 597],\r\n",
        "'Wyoming':[34.033149171270715, 21.215469613259668, 44.751381215469614, 905]}\r\n"
      ],
      "execution_count": 6,
      "outputs": []
    },
    {
      "cell_type": "code",
      "metadata": {
        "id": "QMi-evpLTGAm"
      },
      "source": [
        "import pandas as pd\r\n",
        "import numpy as np\r\n",
        "import matplotlib.pyplot as plt"
      ],
      "execution_count": 12,
      "outputs": []
    },
    {
      "cell_type": "code",
      "metadata": {
        "id": "fQqXBbPxUkLO"
      },
      "source": [
        "real_results={'Alabama':[61, 37],\r\n",
        "'Alaska':[53, 43],\r\n",
        "'Arizona':[49,49],\r\n",
        "'Arkansas':[62,35],\r\n",
        "'California':[34,64],\r\n",
        "'Colorado':[42,55],\r\n",
        "'Connecticut':[39,59],\r\n",
        "'Delaware':[40,59],\r\n",
        "'Florida':[51.2,47.9],\r\n",
        "'Georgia':[49.3,49.5],\r\n",
        "'Hawaii':[34,64],\r\n",
        "'Idaho':[64,33],\r\n",
        "'Illinois':[41,57],\r\n",
        "'Indiana':[57,41],\r\n",
        "'Iowa':[53,45],\r\n",
        "'Kansas':[56,41],\r\n",
        "'Kentucky':[62,36],\r\n",
        "'Louisiana':[58.46,39.85],\r\n",
        "'Maine':[44,53],\r\n",
        "'Maryland':[32.4,65.8],\r\n",
        "'Massachusetts':[32,66],\r\n",
        "'Michigan':[48,51],\r\n",
        "'Minnesota':[45,52],\r\n",
        "'Mississippi':[57,41],\r\n",
        "'Missouri':[56.8,41.4],\r\n",
        "'Montana':[57,40],\r\n",
        "'Nebraska':[59,39],\r\n",
        "'Nevada':[50.01,47.7],\r\n",
        "'New Hampshire':[52.9,45.5],\r\n",
        "'New Jersey':[41,57],\r\n",
        "'New Mexico':[44,54],\r\n",
        "'New York':[42,57],\r\n",
        "'North Carolina':[50,49],\r\n",
        "'North Dakota':[65,32],\r\n",
        "'Ohio':[53,45],\r\n",
        "'Oklahoma':[65,32],\r\n",
        "'Oregon':[40,56],\r\n",
        "'Pennsylvania':[48.8,50],\r\n",
        "'Rhode Island':[39,59],\r\n",
        "'South Carolina':[55,43],\r\n",
        "'South Dakota':[62,36],\r\n",
        "'Tennessee':[61,37],\r\n",
        "'Texas':[52,47],\r\n",
        "'Utah':[58,38],\r\n",
        "'Vermont':[30.8,66.4],\r\n",
        "'Virginia':[44.2,54.4],\r\n",
        "'Washington':[39,58],\r\n",
        "'West Virginia':[68.6,29.7],\r\n",
        "'Wisconsin':[48.9,49.6],\r\n",
        "'Wyoming':[70,27]}\r\n"
      ],
      "execution_count": 13,
      "outputs": []
    },
    {
      "cell_type": "code",
      "metadata": {
        "colab": {
          "base_uri": "https://localhost:8080/",
          "height": 282
        },
        "id": "GJeaVInVb9TI",
        "outputId": "18924f70-ed0d-48d9-ed20-f0bb3382306a"
      },
      "source": [
        "a=results['Alabama'][:2]\r\n",
        "real_results['Alabama']\r\n",
        "#plt.bar(a,height=10)\r\n",
        "ax = plt.subplot(111)\r\n",
        "w = 0.3\r\n",
        "ax.bar(a[0], a[1], width=w, color='b', align='center')\r\n",
        "ax.bar(real_results['Alabama'][0], real_results['Alabama'][1], width=w, color='g', align='center')"
      ],
      "execution_count": 30,
      "outputs": [
        {
          "output_type": "execute_result",
          "data": {
            "text/plain": [
              "<BarContainer object of 1 artists>"
            ]
          },
          "metadata": {
            "tags": []
          },
          "execution_count": 30
        },
        {
          "output_type": "display_data",
          "data": {
            "image/png": "[encoded data removed]",
            "text/plain": [
              "<Figure size 432x288 with 1 Axes>"
            ]
          },
          "metadata": {
            "tags": [],
            "needs_background": "light"
          }
        }
      ]
    },
    {
      "cell_type": "code",
      "metadata": {
        "colab": {
          "base_uri": "https://localhost:8080/"
        },
        "id": "_R-JGbuhcInm",
        "outputId": "527c3331-b215-4aaa-aca2-9af37f089a76"
      },
      "source": [
        "results['Alabama'][:2]"
      ],
      "execution_count": 18,
      "outputs": [
        {
          "output_type": "execute_result",
          "data": {
            "text/plain": [
              "[48.93617021276596, 8.51063829787234]"
            ]
          },
          "metadata": {
            "tags": []
          },
          "execution_count": 18
        }
      ]
    },
    {
      "cell_type": "code",
      "metadata": {
        "colab": {
          "base_uri": "https://localhost:8080/"
        },
        "id": "0GKx3UwHdGN_",
        "outputId": "b80bb50a-0923-4b8d-a34c-182ca4c2faa0"
      },
      "source": [
        "real_results['Alabama']"
      ],
      "execution_count": 31,
      "outputs": [
        {
          "output_type": "execute_result",
          "data": {
            "text/plain": [
              "[61, 37]"
            ]
          },
          "metadata": {
            "tags": []
          },
          "execution_count": 31
        }
      ]
    },
    {
      "cell_type": "code",
      "metadata": {
        "id": "1WyWc3UBgGWn"
      },
      "source": [
        ""
      ],
      "execution_count": null,
      "outputs": []
    }
  ]
}
